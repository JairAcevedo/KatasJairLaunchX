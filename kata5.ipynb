{
 "cells": [
  {
   "cell_type": "code",
   "execution_count": null,
   "metadata": {},
   "outputs": [],
   "source": [
    "primer_planeta = 149597870\n",
    "segundo_planeta = 778547200"
   ]
  },
  {
   "cell_type": "code",
   "execution_count": null,
   "metadata": {},
   "outputs": [],
   "source": [
    "distancia_km = segundo_planeta - primer_planeta\n",
    "print(\"distancia en km: \"  + str(distancia_km))\n",
    "\n",
    "\n",
    "distancia_millas = distancia_km * 0.621\n",
    "\n",
    "print(\"distancia en millas: \" + str(distancia_millas))"
   ]
  },
  {
   "cell_type": "markdown",
   "metadata": {},
   "source": [
    "Ejercicio 2"
   ]
  },
  {
   "cell_type": "code",
   "execution_count": null,
   "metadata": {},
   "outputs": [],
   "source": [
    "primer_planeta = input('Introduzca la distancia del sol para el primer planeta en KM')\n",
    "segundo_planeta = input('Introduzca la distancia desde el sol para el segundo planeta en KM')"
   ]
  },
  {
   "cell_type": "code",
   "execution_count": null,
   "metadata": {},
   "outputs": [],
   "source": [
    "primer_planeta = int(primer_planeta)\n",
    "segundo_planeta = int(segundo_planeta)"
   ]
  },
  {
   "cell_type": "code",
   "execution_count": 13,
   "metadata": {},
   "outputs": [
    {
     "name": "stdout",
     "output_type": "stream",
     "text": [
      "distancia en km: -25000\n",
      "distancia en millas: \n",
      "15525.0\n"
     ]
    }
   ],
   "source": [
    "distancia_km = segundo_planeta - primer_planeta\n",
    "print(\"distancia en km: \"  + str(distancia_km))\n",
    "\n",
    "\n",
    "distancia_millas = distancia_km * 0.621\n",
    "\n",
    "print (\"distancia en millas: \" )\n",
    "print(abs(distancia_millas))"
   ]
  }
 ],
 "metadata": {
  "interpreter": {
   "hash": "130b650bc4b66e99c75b0cbe125e79ae429133e9f03cbca0cca402463c4ddb5b"
  },
  "kernelspec": {
   "display_name": "Python 3.10.2 ('env': venv)",
   "language": "python",
   "name": "python3"
  },
  "language_info": {
   "codemirror_mode": {
    "name": "ipython",
    "version": 3
   },
   "file_extension": ".py",
   "mimetype": "text/x-python",
   "name": "python",
   "nbconvert_exporter": "python",
   "pygments_lexer": "ipython3",
   "version": "3.10.2"
  },
  "orig_nbformat": 4
 },
 "nbformat": 4,
 "nbformat_minor": 2
}
